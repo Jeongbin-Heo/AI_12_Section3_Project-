{
  "nbformat": 4,
  "nbformat_minor": 0,
  "metadata": {
    "colab": {
      "name": "AI_12_허정빈_Project4_모델링.ipynb",
      "provenance": [],
      "collapsed_sections": []
    },
    "kernelspec": {
      "name": "python3",
      "display_name": "Python 3"
    },
    "language_info": {
      "name": "python"
    }
  },
  "cells": [
    {
      "cell_type": "markdown",
      "source": [
        "# I. 문제 정의 및 데이터 선정"
      ],
      "metadata": {
        "id": "_F2snpb_No5x"
      }
    },
    {
      "cell_type": "markdown",
      "source": [
        "와인 평가 텍스트를 기반으로 감정 분석  \n",
        "-> 해당 와인을 평가한 사람이 좋게 평가했는지를 알 수 있다"
      ],
      "metadata": {
        "id": "hFJvCOHiZ7Hn"
      }
    },
    {
      "cell_type": "code",
      "source": [
        "from google.colab import drive\n",
        "drive.mount('/content/drive')"
      ],
      "metadata": {
        "colab": {
          "base_uri": "https://localhost:8080/"
        },
        "id": "itDaHrY3a3um",
        "outputId": "a4ba97e5-5398-462c-df99-8ff0e8e83d21"
      },
      "execution_count": 4,
      "outputs": [
        {
          "output_type": "stream",
          "name": "stdout",
          "text": [
            "Drive already mounted at /content/drive; to attempt to forcibly remount, call drive.mount(\"/content/drive\", force_remount=True).\n"
          ]
        }
      ]
    },
    {
      "cell_type": "markdown",
      "source": [
        "\n",
        "\n",
        "*   country : 와인이 생산된 국가\n",
        "*   description : 와인 평가 텍스트\n",
        "*   designation : 와인 이름\n",
        "*   points : 와인 평가 점수(1~100)\n",
        "*   price : 와인의 가격\n",
        "*   province : 와인이 생산된 지방\n",
        "*   region_1, region_2 : 구체적인 지역\n",
        "*   taster_name, taster_twitter_handle : 와인 평가를 남긴 사람\n",
        "*   title : 와인 평가 제목\n",
        "*   variety : 와인 종류(레드 와인, 화이트 와인 등등...)\n",
        "*   winery : 와인을 만든 와이너리\n",
        "\n"
      ],
      "metadata": {
        "id": "3koFfxIHO6DP"
      }
    },
    {
      "cell_type": "code",
      "source": [
        "import pandas as pd\n",
        "import numpy as np\n",
        "import tensorflow as tf\n",
        "\n",
        "df = pd.read_csv('/content/drive/MyDrive/AIB/Section4/winemag-data-130k-v2.csv')\n",
        "df = df.iloc[:, 1:] # 기존 df 첫번째 column인 Unnamed:0 column을 삭제\n",
        "\n",
        "df.head()"
      ],
      "metadata": {
        "colab": {
          "base_uri": "https://localhost:8080/",
          "height": 493
        },
        "id": "bbiKtN7aOpc2",
        "outputId": "80432f8e-0916-4cec-84f9-a7f9654a16de"
      },
      "execution_count": 53,
      "outputs": [
        {
          "output_type": "execute_result",
          "data": {
            "text/plain": [
              "    country                                        description  \\\n",
              "0     Italy  Aromas include tropical fruit, broom, brimston...   \n",
              "1  Portugal  This is ripe and fruity, a wine that is smooth...   \n",
              "2        US  Tart and snappy, the flavors of lime flesh and...   \n",
              "3        US  Pineapple rind, lemon pith and orange blossom ...   \n",
              "4        US  Much like the regular bottling from 2012, this...   \n",
              "\n",
              "                          designation  points  price           province  \\\n",
              "0                        Vulkà Bianco      87    NaN  Sicily & Sardinia   \n",
              "1                            Avidagos      87   15.0              Douro   \n",
              "2                                 NaN      87   14.0             Oregon   \n",
              "3                Reserve Late Harvest      87   13.0           Michigan   \n",
              "4  Vintner's Reserve Wild Child Block      87   65.0             Oregon   \n",
              "\n",
              "              region_1           region_2         taster_name  \\\n",
              "0                 Etna                NaN       Kerin O’Keefe   \n",
              "1                  NaN                NaN          Roger Voss   \n",
              "2    Willamette Valley  Willamette Valley        Paul Gregutt   \n",
              "3  Lake Michigan Shore                NaN  Alexander Peartree   \n",
              "4    Willamette Valley  Willamette Valley        Paul Gregutt   \n",
              "\n",
              "  taster_twitter_handle                                              title  \\\n",
              "0          @kerinokeefe                  Nicosia 2013 Vulkà Bianco  (Etna)   \n",
              "1            @vossroger      Quinta dos Avidagos 2011 Avidagos Red (Douro)   \n",
              "2           @paulgwine       Rainstorm 2013 Pinot Gris (Willamette Valley)   \n",
              "3                   NaN  St. Julian 2013 Reserve Late Harvest Riesling ...   \n",
              "4           @paulgwine   Sweet Cheeks 2012 Vintner's Reserve Wild Child...   \n",
              "\n",
              "          variety               winery  \n",
              "0     White Blend              Nicosia  \n",
              "1  Portuguese Red  Quinta dos Avidagos  \n",
              "2      Pinot Gris            Rainstorm  \n",
              "3        Riesling           St. Julian  \n",
              "4      Pinot Noir         Sweet Cheeks  "
            ],
            "text/html": [
              "\n",
              "  <div id=\"df-f922118d-fcd8-442b-8782-bfbae8c27a26\">\n",
              "    <div class=\"colab-df-container\">\n",
              "      <div>\n",
              "<style scoped>\n",
              "    .dataframe tbody tr th:only-of-type {\n",
              "        vertical-align: middle;\n",
              "    }\n",
              "\n",
              "    .dataframe tbody tr th {\n",
              "        vertical-align: top;\n",
              "    }\n",
              "\n",
              "    .dataframe thead th {\n",
              "        text-align: right;\n",
              "    }\n",
              "</style>\n",
              "<table border=\"1\" class=\"dataframe\">\n",
              "  <thead>\n",
              "    <tr style=\"text-align: right;\">\n",
              "      <th></th>\n",
              "      <th>country</th>\n",
              "      <th>description</th>\n",
              "      <th>designation</th>\n",
              "      <th>points</th>\n",
              "      <th>price</th>\n",
              "      <th>province</th>\n",
              "      <th>region_1</th>\n",
              "      <th>region_2</th>\n",
              "      <th>taster_name</th>\n",
              "      <th>taster_twitter_handle</th>\n",
              "      <th>title</th>\n",
              "      <th>variety</th>\n",
              "      <th>winery</th>\n",
              "    </tr>\n",
              "  </thead>\n",
              "  <tbody>\n",
              "    <tr>\n",
              "      <th>0</th>\n",
              "      <td>Italy</td>\n",
              "      <td>Aromas include tropical fruit, broom, brimston...</td>\n",
              "      <td>Vulkà Bianco</td>\n",
              "      <td>87</td>\n",
              "      <td>NaN</td>\n",
              "      <td>Sicily &amp; Sardinia</td>\n",
              "      <td>Etna</td>\n",
              "      <td>NaN</td>\n",
              "      <td>Kerin O’Keefe</td>\n",
              "      <td>@kerinokeefe</td>\n",
              "      <td>Nicosia 2013 Vulkà Bianco  (Etna)</td>\n",
              "      <td>White Blend</td>\n",
              "      <td>Nicosia</td>\n",
              "    </tr>\n",
              "    <tr>\n",
              "      <th>1</th>\n",
              "      <td>Portugal</td>\n",
              "      <td>This is ripe and fruity, a wine that is smooth...</td>\n",
              "      <td>Avidagos</td>\n",
              "      <td>87</td>\n",
              "      <td>15.0</td>\n",
              "      <td>Douro</td>\n",
              "      <td>NaN</td>\n",
              "      <td>NaN</td>\n",
              "      <td>Roger Voss</td>\n",
              "      <td>@vossroger</td>\n",
              "      <td>Quinta dos Avidagos 2011 Avidagos Red (Douro)</td>\n",
              "      <td>Portuguese Red</td>\n",
              "      <td>Quinta dos Avidagos</td>\n",
              "    </tr>\n",
              "    <tr>\n",
              "      <th>2</th>\n",
              "      <td>US</td>\n",
              "      <td>Tart and snappy, the flavors of lime flesh and...</td>\n",
              "      <td>NaN</td>\n",
              "      <td>87</td>\n",
              "      <td>14.0</td>\n",
              "      <td>Oregon</td>\n",
              "      <td>Willamette Valley</td>\n",
              "      <td>Willamette Valley</td>\n",
              "      <td>Paul Gregutt</td>\n",
              "      <td>@paulgwine</td>\n",
              "      <td>Rainstorm 2013 Pinot Gris (Willamette Valley)</td>\n",
              "      <td>Pinot Gris</td>\n",
              "      <td>Rainstorm</td>\n",
              "    </tr>\n",
              "    <tr>\n",
              "      <th>3</th>\n",
              "      <td>US</td>\n",
              "      <td>Pineapple rind, lemon pith and orange blossom ...</td>\n",
              "      <td>Reserve Late Harvest</td>\n",
              "      <td>87</td>\n",
              "      <td>13.0</td>\n",
              "      <td>Michigan</td>\n",
              "      <td>Lake Michigan Shore</td>\n",
              "      <td>NaN</td>\n",
              "      <td>Alexander Peartree</td>\n",
              "      <td>NaN</td>\n",
              "      <td>St. Julian 2013 Reserve Late Harvest Riesling ...</td>\n",
              "      <td>Riesling</td>\n",
              "      <td>St. Julian</td>\n",
              "    </tr>\n",
              "    <tr>\n",
              "      <th>4</th>\n",
              "      <td>US</td>\n",
              "      <td>Much like the regular bottling from 2012, this...</td>\n",
              "      <td>Vintner's Reserve Wild Child Block</td>\n",
              "      <td>87</td>\n",
              "      <td>65.0</td>\n",
              "      <td>Oregon</td>\n",
              "      <td>Willamette Valley</td>\n",
              "      <td>Willamette Valley</td>\n",
              "      <td>Paul Gregutt</td>\n",
              "      <td>@paulgwine</td>\n",
              "      <td>Sweet Cheeks 2012 Vintner's Reserve Wild Child...</td>\n",
              "      <td>Pinot Noir</td>\n",
              "      <td>Sweet Cheeks</td>\n",
              "    </tr>\n",
              "  </tbody>\n",
              "</table>\n",
              "</div>\n",
              "      <button class=\"colab-df-convert\" onclick=\"convertToInteractive('df-f922118d-fcd8-442b-8782-bfbae8c27a26')\"\n",
              "              title=\"Convert this dataframe to an interactive table.\"\n",
              "              style=\"display:none;\">\n",
              "        \n",
              "  <svg xmlns=\"http://www.w3.org/2000/svg\" height=\"24px\"viewBox=\"0 0 24 24\"\n",
              "       width=\"24px\">\n",
              "    <path d=\"M0 0h24v24H0V0z\" fill=\"none\"/>\n",
              "    <path d=\"M18.56 5.44l.94 2.06.94-2.06 2.06-.94-2.06-.94-.94-2.06-.94 2.06-2.06.94zm-11 1L8.5 8.5l.94-2.06 2.06-.94-2.06-.94L8.5 2.5l-.94 2.06-2.06.94zm10 10l.94 2.06.94-2.06 2.06-.94-2.06-.94-.94-2.06-.94 2.06-2.06.94z\"/><path d=\"M17.41 7.96l-1.37-1.37c-.4-.4-.92-.59-1.43-.59-.52 0-1.04.2-1.43.59L10.3 9.45l-7.72 7.72c-.78.78-.78 2.05 0 2.83L4 21.41c.39.39.9.59 1.41.59.51 0 1.02-.2 1.41-.59l7.78-7.78 2.81-2.81c.8-.78.8-2.07 0-2.86zM5.41 20L4 18.59l7.72-7.72 1.47 1.35L5.41 20z\"/>\n",
              "  </svg>\n",
              "      </button>\n",
              "      \n",
              "  <style>\n",
              "    .colab-df-container {\n",
              "      display:flex;\n",
              "      flex-wrap:wrap;\n",
              "      gap: 12px;\n",
              "    }\n",
              "\n",
              "    .colab-df-convert {\n",
              "      background-color: #E8F0FE;\n",
              "      border: none;\n",
              "      border-radius: 50%;\n",
              "      cursor: pointer;\n",
              "      display: none;\n",
              "      fill: #1967D2;\n",
              "      height: 32px;\n",
              "      padding: 0 0 0 0;\n",
              "      width: 32px;\n",
              "    }\n",
              "\n",
              "    .colab-df-convert:hover {\n",
              "      background-color: #E2EBFA;\n",
              "      box-shadow: 0px 1px 2px rgba(60, 64, 67, 0.3), 0px 1px 3px 1px rgba(60, 64, 67, 0.15);\n",
              "      fill: #174EA6;\n",
              "    }\n",
              "\n",
              "    [theme=dark] .colab-df-convert {\n",
              "      background-color: #3B4455;\n",
              "      fill: #D2E3FC;\n",
              "    }\n",
              "\n",
              "    [theme=dark] .colab-df-convert:hover {\n",
              "      background-color: #434B5C;\n",
              "      box-shadow: 0px 1px 3px 1px rgba(0, 0, 0, 0.15);\n",
              "      filter: drop-shadow(0px 1px 2px rgba(0, 0, 0, 0.3));\n",
              "      fill: #FFFFFF;\n",
              "    }\n",
              "  </style>\n",
              "\n",
              "      <script>\n",
              "        const buttonEl =\n",
              "          document.querySelector('#df-f922118d-fcd8-442b-8782-bfbae8c27a26 button.colab-df-convert');\n",
              "        buttonEl.style.display =\n",
              "          google.colab.kernel.accessAllowed ? 'block' : 'none';\n",
              "\n",
              "        async function convertToInteractive(key) {\n",
              "          const element = document.querySelector('#df-f922118d-fcd8-442b-8782-bfbae8c27a26');\n",
              "          const dataTable =\n",
              "            await google.colab.kernel.invokeFunction('convertToInteractive',\n",
              "                                                     [key], {});\n",
              "          if (!dataTable) return;\n",
              "\n",
              "          const docLinkHtml = 'Like what you see? Visit the ' +\n",
              "            '<a target=\"_blank\" href=https://colab.research.google.com/notebooks/data_table.ipynb>data table notebook</a>'\n",
              "            + ' to learn more about interactive tables.';\n",
              "          element.innerHTML = '';\n",
              "          dataTable['output_type'] = 'display_data';\n",
              "          await google.colab.output.renderOutput(dataTable, element);\n",
              "          const docLink = document.createElement('div');\n",
              "          docLink.innerHTML = docLinkHtml;\n",
              "          element.appendChild(docLink);\n",
              "        }\n",
              "      </script>\n",
              "    </div>\n",
              "  </div>\n",
              "  "
            ]
          },
          "metadata": {},
          "execution_count": 53
        }
      ]
    },
    {
      "cell_type": "markdown",
      "source": [
        "# II. 데이터 전처리"
      ],
      "metadata": {
        "id": "iVZjWudnNsrp"
      }
    },
    {
      "cell_type": "markdown",
      "source": [
        "**기존 df에서 필요한 컬럼만 사용 -> description(평가), points(평점)**  \n",
        "평점 컬럼을 이용하여 평균 기준 긍정(1), 부정(0)을 나타내는 감정(sentiment)라는 새로운 column을 생성"
      ],
      "metadata": {
        "id": "vXrFJjtY-LEf"
      }
    },
    {
      "cell_type": "code",
      "source": [
        "# 필요한 컬럼만 수집 -> description(평가), points(평점)\n",
        "df = df.loc[:, ['description', 'points']]\n",
        "df.head()"
      ],
      "metadata": {
        "colab": {
          "base_uri": "https://localhost:8080/",
          "height": 206
        },
        "id": "1vbxGWnXU61k",
        "outputId": "8e89673b-146d-4ff0-d84e-ac92328483db"
      },
      "execution_count": 54,
      "outputs": [
        {
          "output_type": "execute_result",
          "data": {
            "text/plain": [
              "                                         description  points\n",
              "0  Aromas include tropical fruit, broom, brimston...      87\n",
              "1  This is ripe and fruity, a wine that is smooth...      87\n",
              "2  Tart and snappy, the flavors of lime flesh and...      87\n",
              "3  Pineapple rind, lemon pith and orange blossom ...      87\n",
              "4  Much like the regular bottling from 2012, this...      87"
            ],
            "text/html": [
              "\n",
              "  <div id=\"df-eb42ae9b-cad1-4767-9b92-701e2cbcf86b\">\n",
              "    <div class=\"colab-df-container\">\n",
              "      <div>\n",
              "<style scoped>\n",
              "    .dataframe tbody tr th:only-of-type {\n",
              "        vertical-align: middle;\n",
              "    }\n",
              "\n",
              "    .dataframe tbody tr th {\n",
              "        vertical-align: top;\n",
              "    }\n",
              "\n",
              "    .dataframe thead th {\n",
              "        text-align: right;\n",
              "    }\n",
              "</style>\n",
              "<table border=\"1\" class=\"dataframe\">\n",
              "  <thead>\n",
              "    <tr style=\"text-align: right;\">\n",
              "      <th></th>\n",
              "      <th>description</th>\n",
              "      <th>points</th>\n",
              "    </tr>\n",
              "  </thead>\n",
              "  <tbody>\n",
              "    <tr>\n",
              "      <th>0</th>\n",
              "      <td>Aromas include tropical fruit, broom, brimston...</td>\n",
              "      <td>87</td>\n",
              "    </tr>\n",
              "    <tr>\n",
              "      <th>1</th>\n",
              "      <td>This is ripe and fruity, a wine that is smooth...</td>\n",
              "      <td>87</td>\n",
              "    </tr>\n",
              "    <tr>\n",
              "      <th>2</th>\n",
              "      <td>Tart and snappy, the flavors of lime flesh and...</td>\n",
              "      <td>87</td>\n",
              "    </tr>\n",
              "    <tr>\n",
              "      <th>3</th>\n",
              "      <td>Pineapple rind, lemon pith and orange blossom ...</td>\n",
              "      <td>87</td>\n",
              "    </tr>\n",
              "    <tr>\n",
              "      <th>4</th>\n",
              "      <td>Much like the regular bottling from 2012, this...</td>\n",
              "      <td>87</td>\n",
              "    </tr>\n",
              "  </tbody>\n",
              "</table>\n",
              "</div>\n",
              "      <button class=\"colab-df-convert\" onclick=\"convertToInteractive('df-eb42ae9b-cad1-4767-9b92-701e2cbcf86b')\"\n",
              "              title=\"Convert this dataframe to an interactive table.\"\n",
              "              style=\"display:none;\">\n",
              "        \n",
              "  <svg xmlns=\"http://www.w3.org/2000/svg\" height=\"24px\"viewBox=\"0 0 24 24\"\n",
              "       width=\"24px\">\n",
              "    <path d=\"M0 0h24v24H0V0z\" fill=\"none\"/>\n",
              "    <path d=\"M18.56 5.44l.94 2.06.94-2.06 2.06-.94-2.06-.94-.94-2.06-.94 2.06-2.06.94zm-11 1L8.5 8.5l.94-2.06 2.06-.94-2.06-.94L8.5 2.5l-.94 2.06-2.06.94zm10 10l.94 2.06.94-2.06 2.06-.94-2.06-.94-.94-2.06-.94 2.06-2.06.94z\"/><path d=\"M17.41 7.96l-1.37-1.37c-.4-.4-.92-.59-1.43-.59-.52 0-1.04.2-1.43.59L10.3 9.45l-7.72 7.72c-.78.78-.78 2.05 0 2.83L4 21.41c.39.39.9.59 1.41.59.51 0 1.02-.2 1.41-.59l7.78-7.78 2.81-2.81c.8-.78.8-2.07 0-2.86zM5.41 20L4 18.59l7.72-7.72 1.47 1.35L5.41 20z\"/>\n",
              "  </svg>\n",
              "      </button>\n",
              "      \n",
              "  <style>\n",
              "    .colab-df-container {\n",
              "      display:flex;\n",
              "      flex-wrap:wrap;\n",
              "      gap: 12px;\n",
              "    }\n",
              "\n",
              "    .colab-df-convert {\n",
              "      background-color: #E8F0FE;\n",
              "      border: none;\n",
              "      border-radius: 50%;\n",
              "      cursor: pointer;\n",
              "      display: none;\n",
              "      fill: #1967D2;\n",
              "      height: 32px;\n",
              "      padding: 0 0 0 0;\n",
              "      width: 32px;\n",
              "    }\n",
              "\n",
              "    .colab-df-convert:hover {\n",
              "      background-color: #E2EBFA;\n",
              "      box-shadow: 0px 1px 2px rgba(60, 64, 67, 0.3), 0px 1px 3px 1px rgba(60, 64, 67, 0.15);\n",
              "      fill: #174EA6;\n",
              "    }\n",
              "\n",
              "    [theme=dark] .colab-df-convert {\n",
              "      background-color: #3B4455;\n",
              "      fill: #D2E3FC;\n",
              "    }\n",
              "\n",
              "    [theme=dark] .colab-df-convert:hover {\n",
              "      background-color: #434B5C;\n",
              "      box-shadow: 0px 1px 3px 1px rgba(0, 0, 0, 0.15);\n",
              "      filter: drop-shadow(0px 1px 2px rgba(0, 0, 0, 0.3));\n",
              "      fill: #FFFFFF;\n",
              "    }\n",
              "  </style>\n",
              "\n",
              "      <script>\n",
              "        const buttonEl =\n",
              "          document.querySelector('#df-eb42ae9b-cad1-4767-9b92-701e2cbcf86b button.colab-df-convert');\n",
              "        buttonEl.style.display =\n",
              "          google.colab.kernel.accessAllowed ? 'block' : 'none';\n",
              "\n",
              "        async function convertToInteractive(key) {\n",
              "          const element = document.querySelector('#df-eb42ae9b-cad1-4767-9b92-701e2cbcf86b');\n",
              "          const dataTable =\n",
              "            await google.colab.kernel.invokeFunction('convertToInteractive',\n",
              "                                                     [key], {});\n",
              "          if (!dataTable) return;\n",
              "\n",
              "          const docLinkHtml = 'Like what you see? Visit the ' +\n",
              "            '<a target=\"_blank\" href=https://colab.research.google.com/notebooks/data_table.ipynb>data table notebook</a>'\n",
              "            + ' to learn more about interactive tables.';\n",
              "          element.innerHTML = '';\n",
              "          dataTable['output_type'] = 'display_data';\n",
              "          await google.colab.output.renderOutput(dataTable, element);\n",
              "          const docLink = document.createElement('div');\n",
              "          docLink.innerHTML = docLinkHtml;\n",
              "          element.appendChild(docLink);\n",
              "        }\n",
              "      </script>\n",
              "    </div>\n",
              "  </div>\n",
              "  "
            ]
          },
          "metadata": {},
          "execution_count": 54
        }
      ]
    },
    {
      "cell_type": "code",
      "source": [
        "# 와인의 평점 평균을 기준으로 긍정(1), 부정(0)으로 나눔\n",
        "mean = df['points'].mean() # 약 88.4471\n",
        "\n",
        "df['sentiment'] = df['points']\n",
        "\n",
        "def sent(x) :\n",
        "  if x >= mean :\n",
        "    return 1\n",
        "  else :\n",
        "    return 0\n",
        "\n",
        "df['sentiment'] = df['sentiment'].apply(sent)\n",
        "df['sentiment'].value_counts(normalize = True)"
      ],
      "metadata": {
        "colab": {
          "base_uri": "https://localhost:8080/"
        },
        "id": "ldnILjRUVao7",
        "outputId": "2b0996c2-81d6-4307-c13c-e7bb5f04e962"
      },
      "execution_count": 55,
      "outputs": [
        {
          "output_type": "execute_result",
          "data": {
            "text/plain": [
              "0    0.528579\n",
              "1    0.471421\n",
              "Name: sentiment, dtype: float64"
            ]
          },
          "metadata": {},
          "execution_count": 55
        }
      ]
    },
    {
      "cell_type": "code",
      "source": [
        "df.head()"
      ],
      "metadata": {
        "colab": {
          "base_uri": "https://localhost:8080/",
          "height": 206
        },
        "id": "kVQZS-li7V5S",
        "outputId": "7d4d475c-97a8-4cdb-995f-d4e90e8345e0"
      },
      "execution_count": 56,
      "outputs": [
        {
          "output_type": "execute_result",
          "data": {
            "text/plain": [
              "                                         description  points  sentiment\n",
              "0  Aromas include tropical fruit, broom, brimston...      87          0\n",
              "1  This is ripe and fruity, a wine that is smooth...      87          0\n",
              "2  Tart and snappy, the flavors of lime flesh and...      87          0\n",
              "3  Pineapple rind, lemon pith and orange blossom ...      87          0\n",
              "4  Much like the regular bottling from 2012, this...      87          0"
            ],
            "text/html": [
              "\n",
              "  <div id=\"df-42b29c45-5f06-4ca9-862d-c8ef2f486206\">\n",
              "    <div class=\"colab-df-container\">\n",
              "      <div>\n",
              "<style scoped>\n",
              "    .dataframe tbody tr th:only-of-type {\n",
              "        vertical-align: middle;\n",
              "    }\n",
              "\n",
              "    .dataframe tbody tr th {\n",
              "        vertical-align: top;\n",
              "    }\n",
              "\n",
              "    .dataframe thead th {\n",
              "        text-align: right;\n",
              "    }\n",
              "</style>\n",
              "<table border=\"1\" class=\"dataframe\">\n",
              "  <thead>\n",
              "    <tr style=\"text-align: right;\">\n",
              "      <th></th>\n",
              "      <th>description</th>\n",
              "      <th>points</th>\n",
              "      <th>sentiment</th>\n",
              "    </tr>\n",
              "  </thead>\n",
              "  <tbody>\n",
              "    <tr>\n",
              "      <th>0</th>\n",
              "      <td>Aromas include tropical fruit, broom, brimston...</td>\n",
              "      <td>87</td>\n",
              "      <td>0</td>\n",
              "    </tr>\n",
              "    <tr>\n",
              "      <th>1</th>\n",
              "      <td>This is ripe and fruity, a wine that is smooth...</td>\n",
              "      <td>87</td>\n",
              "      <td>0</td>\n",
              "    </tr>\n",
              "    <tr>\n",
              "      <th>2</th>\n",
              "      <td>Tart and snappy, the flavors of lime flesh and...</td>\n",
              "      <td>87</td>\n",
              "      <td>0</td>\n",
              "    </tr>\n",
              "    <tr>\n",
              "      <th>3</th>\n",
              "      <td>Pineapple rind, lemon pith and orange blossom ...</td>\n",
              "      <td>87</td>\n",
              "      <td>0</td>\n",
              "    </tr>\n",
              "    <tr>\n",
              "      <th>4</th>\n",
              "      <td>Much like the regular bottling from 2012, this...</td>\n",
              "      <td>87</td>\n",
              "      <td>0</td>\n",
              "    </tr>\n",
              "  </tbody>\n",
              "</table>\n",
              "</div>\n",
              "      <button class=\"colab-df-convert\" onclick=\"convertToInteractive('df-42b29c45-5f06-4ca9-862d-c8ef2f486206')\"\n",
              "              title=\"Convert this dataframe to an interactive table.\"\n",
              "              style=\"display:none;\">\n",
              "        \n",
              "  <svg xmlns=\"http://www.w3.org/2000/svg\" height=\"24px\"viewBox=\"0 0 24 24\"\n",
              "       width=\"24px\">\n",
              "    <path d=\"M0 0h24v24H0V0z\" fill=\"none\"/>\n",
              "    <path d=\"M18.56 5.44l.94 2.06.94-2.06 2.06-.94-2.06-.94-.94-2.06-.94 2.06-2.06.94zm-11 1L8.5 8.5l.94-2.06 2.06-.94-2.06-.94L8.5 2.5l-.94 2.06-2.06.94zm10 10l.94 2.06.94-2.06 2.06-.94-2.06-.94-.94-2.06-.94 2.06-2.06.94z\"/><path d=\"M17.41 7.96l-1.37-1.37c-.4-.4-.92-.59-1.43-.59-.52 0-1.04.2-1.43.59L10.3 9.45l-7.72 7.72c-.78.78-.78 2.05 0 2.83L4 21.41c.39.39.9.59 1.41.59.51 0 1.02-.2 1.41-.59l7.78-7.78 2.81-2.81c.8-.78.8-2.07 0-2.86zM5.41 20L4 18.59l7.72-7.72 1.47 1.35L5.41 20z\"/>\n",
              "  </svg>\n",
              "      </button>\n",
              "      \n",
              "  <style>\n",
              "    .colab-df-container {\n",
              "      display:flex;\n",
              "      flex-wrap:wrap;\n",
              "      gap: 12px;\n",
              "    }\n",
              "\n",
              "    .colab-df-convert {\n",
              "      background-color: #E8F0FE;\n",
              "      border: none;\n",
              "      border-radius: 50%;\n",
              "      cursor: pointer;\n",
              "      display: none;\n",
              "      fill: #1967D2;\n",
              "      height: 32px;\n",
              "      padding: 0 0 0 0;\n",
              "      width: 32px;\n",
              "    }\n",
              "\n",
              "    .colab-df-convert:hover {\n",
              "      background-color: #E2EBFA;\n",
              "      box-shadow: 0px 1px 2px rgba(60, 64, 67, 0.3), 0px 1px 3px 1px rgba(60, 64, 67, 0.15);\n",
              "      fill: #174EA6;\n",
              "    }\n",
              "\n",
              "    [theme=dark] .colab-df-convert {\n",
              "      background-color: #3B4455;\n",
              "      fill: #D2E3FC;\n",
              "    }\n",
              "\n",
              "    [theme=dark] .colab-df-convert:hover {\n",
              "      background-color: #434B5C;\n",
              "      box-shadow: 0px 1px 3px 1px rgba(0, 0, 0, 0.15);\n",
              "      filter: drop-shadow(0px 1px 2px rgba(0, 0, 0, 0.3));\n",
              "      fill: #FFFFFF;\n",
              "    }\n",
              "  </style>\n",
              "\n",
              "      <script>\n",
              "        const buttonEl =\n",
              "          document.querySelector('#df-42b29c45-5f06-4ca9-862d-c8ef2f486206 button.colab-df-convert');\n",
              "        buttonEl.style.display =\n",
              "          google.colab.kernel.accessAllowed ? 'block' : 'none';\n",
              "\n",
              "        async function convertToInteractive(key) {\n",
              "          const element = document.querySelector('#df-42b29c45-5f06-4ca9-862d-c8ef2f486206');\n",
              "          const dataTable =\n",
              "            await google.colab.kernel.invokeFunction('convertToInteractive',\n",
              "                                                     [key], {});\n",
              "          if (!dataTable) return;\n",
              "\n",
              "          const docLinkHtml = 'Like what you see? Visit the ' +\n",
              "            '<a target=\"_blank\" href=https://colab.research.google.com/notebooks/data_table.ipynb>data table notebook</a>'\n",
              "            + ' to learn more about interactive tables.';\n",
              "          element.innerHTML = '';\n",
              "          dataTable['output_type'] = 'display_data';\n",
              "          await google.colab.output.renderOutput(dataTable, element);\n",
              "          const docLink = document.createElement('div');\n",
              "          docLink.innerHTML = docLinkHtml;\n",
              "          element.appendChild(docLink);\n",
              "        }\n",
              "      </script>\n",
              "    </div>\n",
              "  </div>\n",
              "  "
            ]
          },
          "metadata": {},
          "execution_count": 56
        }
      ]
    },
    {
      "cell_type": "markdown",
      "source": [
        "**평가 내용을 feature, 감정을 label로 사용**"
      ],
      "metadata": {
        "id": "CvgoIC0r-knm"
      }
    },
    {
      "cell_type": "code",
      "source": [
        "feature = df['description']\n",
        "label = df['sentiment']"
      ],
      "metadata": {
        "id": "5TzLGio6-qvB"
      },
      "execution_count": 57,
      "outputs": []
    },
    {
      "cell_type": "code",
      "source": [
        "import nltk\n",
        "nltk.download('stopwords')\n",
        "nltk.download('wordnet')"
      ],
      "metadata": {
        "colab": {
          "base_uri": "https://localhost:8080/"
        },
        "id": "ZbT_W3Ia2_Yb",
        "outputId": "4c6ba0ef-c19c-4ca7-a433-05976a8d74e3"
      },
      "execution_count": 58,
      "outputs": [
        {
          "output_type": "stream",
          "name": "stdout",
          "text": [
            "[nltk_data] Downloading package stopwords to /root/nltk_data...\n",
            "[nltk_data]   Package stopwords is already up-to-date!\n",
            "[nltk_data] Downloading package wordnet to /root/nltk_data...\n",
            "[nltk_data]   Package wordnet is already up-to-date!\n"
          ]
        },
        {
          "output_type": "execute_result",
          "data": {
            "text/plain": [
              "True"
            ]
          },
          "metadata": {},
          "execution_count": 58
        }
      ]
    },
    {
      "cell_type": "markdown",
      "source": [
        "**정규표현식(regex), 내장함수를 통한 소문자 통일(lower), 표제어 추출(lemmatization)**"
      ],
      "metadata": {
        "id": "fB-yD4lJ9vmG"
      }
    },
    {
      "cell_type": "code",
      "source": [
        "from nltk.stem import WordNetLemmatizer\n",
        "\n",
        "lemmatizer = WordNetLemmatizer()\n",
        "\n",
        "# 표제어 추출을 하는 함수를 작성\n",
        "def get_lemma(sentence):\n",
        "  lemmas = []\n",
        "  for word in sentence:\n",
        "    words = lemmatizer.lemmatize(word, 'v') # 명사, 동사를 설정안해주면 동사를 원형으로 잘 추출해내지 못하므로 일단 동사에 집중\n",
        "    lemmas.append(words)\n",
        "\n",
        "  # lemmas = [lemmatizer.lemmatize(word, 'v') for word in sentence]\n",
        "\n",
        "  return lemmas"
      ],
      "metadata": {
        "id": "uUc9v_jz8Vsk"
      },
      "execution_count": 59,
      "outputs": []
    },
    {
      "cell_type": "code",
      "source": [
        "import re\n",
        "from nltk.corpus import stopwords\n",
        "\n",
        "swlist = stopwords.words('english') # nltk가 정의한 영어 불용어 리스트\n",
        "\n",
        "# 전처리를 해주는 함수를 작성\n",
        "def preprocessing(sentence):\n",
        "  sentence = re.sub('[^a-zA-Z]', ' ', sentence) # 알파벳이 아닌 것에 대해서는 공백으로 대체\n",
        "  sentence = sentence.lower() # 대문자 알파벳을 소문자로 \n",
        "  sentence = [word for word in sentence.split() if word not in swlist] # 불용어 리스트에 없는 단어들만 리스트 형식으로 나타냄\n",
        "  sentence = get_lemma(sentence) # 위에서 만든 get_lemma 함수를 이용하여 표제어 추출\n",
        "\n",
        "  return ' '.join(sentence) # 리스트 형태의 단어들을 문장으로 결합"
      ],
      "metadata": {
        "id": "pWCifMZF0nlq"
      },
      "execution_count": 60,
      "outputs": []
    },
    {
      "cell_type": "code",
      "source": [
        "# sample = df['description'][0]\n",
        "\n",
        "# print(sample)\n",
        "# print(preprocessing(sample))"
      ],
      "metadata": {
        "colab": {
          "base_uri": "https://localhost:8080/"
        },
        "id": "8B49ih4y_S_O",
        "outputId": "0c82a63f-297e-44b4-8f90-a47f33a71d69"
      },
      "execution_count": 62,
      "outputs": [
        {
          "output_type": "stream",
          "name": "stdout",
          "text": [
            "Aromas include tropical fruit, broom, brimstone and dried herb. The palate isn't overly expressive, offering unripened apple, citrus and dried sage alongside brisk acidity.\n",
            "aromas include tropical fruit broom brimstone dry herb palate overly expressive offer unripened apple citrus dry sage alongside brisk acidity\n"
          ]
        }
      ]
    },
    {
      "cell_type": "code",
      "source": [
        "feature_preprocessed = feature.apply(preprocessing)"
      ],
      "metadata": {
        "id": "6a9QY6dK_txg"
      },
      "execution_count": 63,
      "outputs": []
    },
    {
      "cell_type": "markdown",
      "source": [
        "**학습셋과 테스트셋을 분리**"
      ],
      "metadata": {
        "id": "tjVttPR7ElKe"
      }
    },
    {
      "cell_type": "code",
      "source": [
        "from sklearn.model_selection import train_test_split\n",
        "\n",
        "x_train, x_test, y_train, y_test = train_test_split(feature_preprocessed, label, test_size = 0.2, random_state = 42, stratify = label)"
      ],
      "metadata": {
        "id": "O1sPlx6qEkyJ"
      },
      "execution_count": 64,
      "outputs": []
    },
    {
      "cell_type": "markdown",
      "source": [
        "**Tokenizer를 이용하여 데이터 변환**"
      ],
      "metadata": {
        "id": "ylVd25m9AXoz"
      }
    },
    {
      "cell_type": "code",
      "source": [
        "from tensorflow.keras.preprocessing.text import Tokenizer\n",
        "\n",
        "tokenizer = Tokenizer()\n",
        "tokenizer.fit_on_texts(x_train)\n",
        "\n",
        "vocab_size = len(tokenizer.word_index) + 1 # 패딩이 0으로 들어가있기 때문에 +1 을 해주어야 한다\n",
        "print(vocab_size)"
      ],
      "metadata": {
        "colab": {
          "base_uri": "https://localhost:8080/"
        },
        "id": "oWJu9bWqAXQ6",
        "outputId": "45e2b70f-dc48-44c1-86fe-20134e630aa4"
      },
      "execution_count": 65,
      "outputs": [
        {
          "output_type": "stream",
          "name": "stdout",
          "text": [
            "23401\n"
          ]
        }
      ]
    },
    {
      "cell_type": "code",
      "source": [
        "x_train_encoded = tokenizer.texts_to_sequences(x_train)\n",
        "x_test_encoded = tokenizer.texts_to_sequences(x_test)\n",
        "\n",
        "# 패딩 처리하기 전 maxlen 값을 결정하기 위해 학습 데이터에 있는 문서의 평균 토큰 수 구하기\n",
        "print(f'학습 데이터에 있는 문서의 평균 토큰 수: {np.mean([len(sent) for sent in x_train_encoded], dtype=int)}')"
      ],
      "metadata": {
        "colab": {
          "base_uri": "https://localhost:8080/"
        },
        "id": "iITius3bDiWD",
        "outputId": "3e185385-d6b1-4eeb-c615-5ae0e9c9e134"
      },
      "execution_count": 66,
      "outputs": [
        {
          "output_type": "stream",
          "name": "stdout",
          "text": [
            "학습 데이터에 있는 문서의 평균 토큰 수: 25\n"
          ]
        }
      ]
    },
    {
      "cell_type": "code",
      "source": [
        "from tensorflow.keras.preprocessing.sequence import pad_sequences\n",
        "\n",
        "# 학습 데이터에 있는 문서의 평균 토큰 수가 25이므로 그것보다 조금 더 긴 50으로 설정\n",
        "maxlen = 50\n",
        "\n",
        "x_train = pad_sequences(x_train_encoded, maxlen = maxlen, truncating = 'post', padding = 'post')\n",
        "x_test = pad_sequences(x_test_encoded, maxlen = maxlen, truncating = 'post', padding = 'post')"
      ],
      "metadata": {
        "id": "ljepBoXQFf-j"
      },
      "execution_count": 67,
      "outputs": []
    },
    {
      "cell_type": "markdown",
      "source": [
        "# 모델링"
      ],
      "metadata": {
        "id": "x8kzrUIo3tnJ"
      }
    },
    {
      "cell_type": "code",
      "source": [
        "# 모델 학습 과정에서 같은 파라미터에서 일정한 성능을 내기 위해 시드값을 고정\n",
        "np.random.seed(42)\n",
        "tf.random.set_seed(42)"
      ],
      "metadata": {
        "id": "8LKDFq0MIXCq"
      },
      "execution_count": 68,
      "outputs": []
    },
    {
      "cell_type": "code",
      "source": [
        "from tensorflow.keras.models import Sequential\n",
        "from tensorflow.keras.layers import Dense, LSTM, Embedding, Dropout\n",
        "from tensorflow.keras.callbacks import ModelCheckpoint, EarlyStopping"
      ],
      "metadata": {
        "id": "xqzu28nfJFgK"
      },
      "execution_count": 73,
      "outputs": []
    },
    {
      "cell_type": "markdown",
      "source": [
        "**word2vec**  \n",
        "구글 뉴스 말뭉치로 학습된 word2vec 벡터 다운"
      ],
      "metadata": {
        "id": "xzGDtonURfr2"
      }
    },
    {
      "cell_type": "code",
      "source": [
        "import gensim.downloader as api\n",
        "\n",
        "wv = api.load('word2vec-google-news-300')"
      ],
      "metadata": {
        "colab": {
          "base_uri": "https://localhost:8080/"
        },
        "id": "3Q6k_4KGRuHH",
        "outputId": "d3d29871-0737-4612-faad-5d6e38153a82"
      },
      "execution_count": 80,
      "outputs": [
        {
          "output_type": "stream",
          "name": "stdout",
          "text": [
            "[==================================================] 100.0% 1662.8/1662.8MB downloaded\n"
          ]
        }
      ]
    },
    {
      "cell_type": "markdown",
      "source": [
        "vocab에 속하는 단어에 대해서 word2vec의 임베딩 가중치 행렬 생성"
      ],
      "metadata": {
        "id": "HN4CHk5iVn2B"
      }
    },
    {
      "cell_type": "code",
      "source": [
        "embedding_matrix = np.zeros((vocab_size, 300))\n",
        "\n",
        "# 해당 word가 word2vec에 있는 단어일 경우 임베딩 벡터를 반환\n",
        "def get_vector(word):\n",
        "    if word in wv:\n",
        "        return wv[word]\n",
        "    else:\n",
        "        return None\n",
        " \n",
        "for word, i in tokenizer.word_index.items():\n",
        "    temp = get_vector(word)\n",
        "    if temp is not None:\n",
        "        embedding_matrix[i] = temp\n",
        "\n",
        "embedding_matrix.shape"
      ],
      "metadata": {
        "colab": {
          "base_uri": "https://localhost:8080/"
        },
        "id": "8v4Pd6wIVt62",
        "outputId": "15eceb48-e85f-444c-eb61-87b9a9499873"
      },
      "execution_count": 84,
      "outputs": [
        {
          "output_type": "execute_result",
          "data": {
            "text/plain": [
              "(23401, 300)"
            ]
          },
          "metadata": {},
          "execution_count": 84
        }
      ]
    },
    {
      "cell_type": "markdown",
      "source": [
        "**모델 설계 & 컴파일**"
      ],
      "metadata": {
        "id": "bpnmIkz0NgHv"
      }
    },
    {
      "cell_type": "code",
      "source": [
        "model = Sequential()\n",
        "model.add(Embedding(vocab_size, 300, input_length = maxlen, weights = [embedding_matrix], trainable = False))\n",
        "# 이미 사전훈련된 벡터가 학습되지 않도록 trainable = False로 설정\n",
        "model.add(LSTM(128, return_sequences = True))\n",
        "model.add(LSTM(128))\n",
        "model.add(Dropout(0.1))\n",
        "model.add(Dense(32, activation = 'relu'))\n",
        "model.add(Dense(1, activation = 'sigmoid'))\n",
        "\n",
        "model.compile(optimizer = 'adam', loss = 'binary_crossentropy', metrics = ['acc'])\n",
        "\n",
        "model.summary()"
      ],
      "metadata": {
        "colab": {
          "base_uri": "https://localhost:8080/"
        },
        "id": "wXI5iYGVJcPQ",
        "outputId": "92f0c050-ebd9-4bd4-ed18-c3ea7ef90a50"
      },
      "execution_count": 86,
      "outputs": [
        {
          "output_type": "stream",
          "name": "stdout",
          "text": [
            "Model: \"sequential_5\"\n",
            "_________________________________________________________________\n",
            " Layer (type)                Output Shape              Param #   \n",
            "=================================================================\n",
            " embedding_5 (Embedding)     (None, 50, 300)           7020300   \n",
            "                                                                 \n",
            " lstm_8 (LSTM)               (None, 50, 128)           219648    \n",
            "                                                                 \n",
            " lstm_9 (LSTM)               (None, 128)               131584    \n",
            "                                                                 \n",
            " dropout_4 (Dropout)         (None, 128)               0         \n",
            "                                                                 \n",
            " dense_8 (Dense)             (None, 32)                4128      \n",
            "                                                                 \n",
            " dense_9 (Dense)             (None, 1)                 33        \n",
            "                                                                 \n",
            "=================================================================\n",
            "Total params: 7,375,693\n",
            "Trainable params: 355,393\n",
            "Non-trainable params: 7,020,300\n",
            "_________________________________________________________________\n"
          ]
        }
      ]
    },
    {
      "cell_type": "markdown",
      "source": [
        "**조기종료(Early Stopping 설정)**"
      ],
      "metadata": {
        "id": "UTxjKmFiNrwW"
      }
    },
    {
      "cell_type": "code",
      "source": [
        "# 학습시킨 데이터를 저장시키기 위한 코드(파라미터 저장 경로 설정)\n",
        "checkpoint_filepath = \"FMbest.hdf5\"\n",
        "\n",
        "# early stopping\n",
        "early_stop = EarlyStopping(monitor = 'val_loss', min_delta = 0, patience = 5, verbose = 1)\n",
        "# 멈추는 기준(monitor)를 val_loss 로 설정해주고 loss가 Best 값보다 5번 이상 갱신이 안될 때 Stop(patience) 하도록 설정\n",
        "\n",
        "# Validation Set을 기준으로 가장 최적의 모델을 찾기\n",
        "save_best = ModelCheckpoint(filepath = checkpoint_filepath, monitor = 'val_loss', verbose = 1, \n",
        "                            save_best_only = True, save_weights_only = True, mode = 'auto', save_freq = 'epoch', options = None)\n",
        "# Best 모델 역시 멈추는 기준을 val_loss로 하고 save_best_only=True, save_weights_only=True 로 설정"
      ],
      "metadata": {
        "id": "y9dExWgBM1b3"
      },
      "execution_count": 87,
      "outputs": []
    },
    {
      "cell_type": "markdown",
      "source": [
        "**모델 학습**"
      ],
      "metadata": {
        "id": "uIGrOOyFOPt0"
      }
    },
    {
      "cell_type": "code",
      "source": [
        "model.fit(x_train, y_train, batch_size = 100, epochs = 20,\n",
        "          validation_data = (x_test, y_test), callbacks = [early_stop, save_best])"
      ],
      "metadata": {
        "colab": {
          "base_uri": "https://localhost:8080/"
        },
        "id": "aG3vS7oxQzMg",
        "outputId": "ddbd1db2-0537-4f29-b4f8-7023d0a7a85a"
      },
      "execution_count": 88,
      "outputs": [
        {
          "output_type": "stream",
          "name": "stdout",
          "text": [
            "Epoch 1/20\n",
            "1040/1040 [==============================] - ETA: 0s - loss: 0.4465 - acc: 0.7885\n",
            "Epoch 1: val_loss improved from inf to 0.43881, saving model to FMbest.hdf5\n",
            "1040/1040 [==============================] - 424s 403ms/step - loss: 0.4465 - acc: 0.7885 - val_loss: 0.4388 - val_acc: 0.7957\n",
            "Epoch 2/20\n",
            "1040/1040 [==============================] - ETA: 0s - loss: 0.4026 - acc: 0.8130\n",
            "Epoch 2: val_loss improved from 0.43881 to 0.40425, saving model to FMbest.hdf5\n",
            "1040/1040 [==============================] - 387s 372ms/step - loss: 0.4026 - acc: 0.8130 - val_loss: 0.4043 - val_acc: 0.8076\n",
            "Epoch 3/20\n",
            "1040/1040 [==============================] - ETA: 0s - loss: 0.3840 - acc: 0.8229\n",
            "Epoch 3: val_loss improved from 0.40425 to 0.39546, saving model to FMbest.hdf5\n",
            "1040/1040 [==============================] - 390s 375ms/step - loss: 0.3840 - acc: 0.8229 - val_loss: 0.3955 - val_acc: 0.8168\n",
            "Epoch 4/20\n",
            "1040/1040 [==============================] - ETA: 0s - loss: 0.3681 - acc: 0.8314\n",
            "Epoch 4: val_loss improved from 0.39546 to 0.38164, saving model to FMbest.hdf5\n",
            "1040/1040 [==============================] - 386s 372ms/step - loss: 0.3681 - acc: 0.8314 - val_loss: 0.3816 - val_acc: 0.8277\n",
            "Epoch 5/20\n",
            "1040/1040 [==============================] - ETA: 0s - loss: 0.3524 - acc: 0.8397\n",
            "Epoch 5: val_loss improved from 0.38164 to 0.37422, saving model to FMbest.hdf5\n",
            "1040/1040 [==============================] - 386s 371ms/step - loss: 0.3524 - acc: 0.8397 - val_loss: 0.3742 - val_acc: 0.8295\n",
            "Epoch 6/20\n",
            "1040/1040 [==============================] - ETA: 0s - loss: 0.3370 - acc: 0.8476\n",
            "Epoch 6: val_loss improved from 0.37422 to 0.37011, saving model to FMbest.hdf5\n",
            "1040/1040 [==============================] - 385s 370ms/step - loss: 0.3370 - acc: 0.8476 - val_loss: 0.3701 - val_acc: 0.8315\n",
            "Epoch 7/20\n",
            "1040/1040 [==============================] - ETA: 0s - loss: 0.3197 - acc: 0.8565\n",
            "Epoch 7: val_loss did not improve from 0.37011\n",
            "1040/1040 [==============================] - 385s 371ms/step - loss: 0.3197 - acc: 0.8565 - val_loss: 0.3742 - val_acc: 0.8279\n",
            "Epoch 8/20\n",
            "1040/1040 [==============================] - ETA: 0s - loss: 0.3014 - acc: 0.8667\n",
            "Epoch 8: val_loss did not improve from 0.37011\n",
            "1040/1040 [==============================] - 386s 371ms/step - loss: 0.3014 - acc: 0.8667 - val_loss: 0.3890 - val_acc: 0.8309\n",
            "Epoch 9/20\n",
            "1040/1040 [==============================] - ETA: 0s - loss: 0.2787 - acc: 0.8780\n",
            "Epoch 9: val_loss did not improve from 0.37011\n",
            "1040/1040 [==============================] - 387s 372ms/step - loss: 0.2787 - acc: 0.8780 - val_loss: 0.3833 - val_acc: 0.8286\n",
            "Epoch 10/20\n",
            "1040/1040 [==============================] - ETA: 0s - loss: 0.2586 - acc: 0.8883\n",
            "Epoch 10: val_loss did not improve from 0.37011\n",
            "1040/1040 [==============================] - 386s 371ms/step - loss: 0.2586 - acc: 0.8883 - val_loss: 0.3852 - val_acc: 0.8320\n",
            "Epoch 11/20\n",
            "1040/1040 [==============================] - ETA: 0s - loss: 0.2323 - acc: 0.9014\n",
            "Epoch 11: val_loss did not improve from 0.37011\n",
            "1040/1040 [==============================] - 386s 371ms/step - loss: 0.2323 - acc: 0.9014 - val_loss: 0.4124 - val_acc: 0.8270\n",
            "Epoch 11: early stopping\n"
          ]
        },
        {
          "output_type": "execute_result",
          "data": {
            "text/plain": [
              "<keras.callbacks.History at 0x7f3682ee9850>"
            ]
          },
          "metadata": {},
          "execution_count": 88
        }
      ]
    },
    {
      "cell_type": "markdown",
      "source": [
        "**테스트셋에 대해 모델 평가**"
      ],
      "metadata": {
        "id": "jTXQlY9DPOcd"
      }
    },
    {
      "cell_type": "code",
      "source": [
        "# 학습 과정에서 가장 성능이 좋았던 모델을 불러옴\n",
        "model.load_weights(checkpoint_filepath)\n",
        "\n",
        "# 평가\n",
        "model.evaluate(x_test, y_test)"
      ],
      "metadata": {
        "colab": {
          "base_uri": "https://localhost:8080/"
        },
        "id": "boLMQvKlXBeU",
        "outputId": "357792e7-01d2-41d1-f024-d6d784a91c09"
      },
      "execution_count": 89,
      "outputs": [
        {
          "output_type": "stream",
          "name": "stdout",
          "text": [
            "813/813 [==============================] - 42s 52ms/step - loss: 0.3701 - acc: 0.8315\n"
          ]
        },
        {
          "output_type": "execute_result",
          "data": {
            "text/plain": [
              "[0.3701074719429016, 0.831506073474884]"
            ]
          },
          "metadata": {},
          "execution_count": 89
        }
      ]
    },
    {
      "cell_type": "markdown",
      "source": [
        "# 모델 저장"
      ],
      "metadata": {
        "id": "PfyoXnmFXRr0"
      }
    },
    {
      "cell_type": "markdown",
      "source": [
        "**인메모리 상태에서 학습된 모델을 다른 노트에서 사용할 수 있도록 따로 저장**"
      ],
      "metadata": {
        "id": "0xgNNbotXUGR"
      }
    },
    {
      "cell_type": "code",
      "source": [
        "from keras.models import load_model\n",
        "\n",
        "model.save('/content/drive/MyDrive/AIB/Section4/pj4model.h5')"
      ],
      "metadata": {
        "id": "QVMHsoQLXY3y"
      },
      "execution_count": 94,
      "outputs": []
    },
    {
      "cell_type": "markdown",
      "source": [
        "모델 이외에도 전처리에 사용되는 tokenizer를 저장"
      ],
      "metadata": {
        "id": "QbAoEE3psgZD"
      }
    },
    {
      "cell_type": "code",
      "source": [
        "import json\n",
        "\n",
        "with open('/content/drive/MyDrive/AIB/Section4/wordIndex.json', 'w') as json_file:\n",
        "    json.dump(tokenizer.word_index, json_file)"
      ],
      "metadata": {
        "id": "IkllJ7anuMxI"
      },
      "execution_count": 103,
      "outputs": []
    }
  ]
}