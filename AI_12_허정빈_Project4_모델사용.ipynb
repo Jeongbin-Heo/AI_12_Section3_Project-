{
  "nbformat": 4,
  "nbformat_minor": 0,
  "metadata": {
    "colab": {
      "name": "AI_12_허정빈_Project4_모델사용.ipynb",
      "provenance": [],
      "collapsed_sections": []
    },
    "kernelspec": {
      "name": "python3",
      "display_name": "Python 3"
    },
    "language_info": {
      "name": "python"
    }
  },
  "cells": [
    {
      "cell_type": "code",
      "source": [
        "from google.colab import drive\n",
        "drive.mount('/content/drive')"
      ],
      "metadata": {
        "colab": {
          "base_uri": "https://localhost:8080/"
        },
        "id": "MEFQo5WbwDCO",
        "outputId": "d6fc4222-eb8a-43d2-e146-56e1c4f511b6"
      },
      "execution_count": 1,
      "outputs": [
        {
          "output_type": "stream",
          "name": "stdout",
          "text": [
            "Mounted at /content/drive\n"
          ]
        }
      ]
    },
    {
      "cell_type": "code",
      "source": [
        "import nltk\n",
        "nltk.download('stopwords')\n",
        "nltk.download('wordnet')"
      ],
      "metadata": {
        "colab": {
          "base_uri": "https://localhost:8080/"
        },
        "id": "Z4fBYrB9xiQl",
        "outputId": "11000869-b9ed-425f-fe16-185947d19ffb"
      },
      "execution_count": 4,
      "outputs": [
        {
          "output_type": "stream",
          "name": "stdout",
          "text": [
            "[nltk_data] Downloading package stopwords to /root/nltk_data...\n",
            "[nltk_data]   Unzipping corpora/stopwords.zip.\n",
            "[nltk_data] Downloading package wordnet to /root/nltk_data...\n",
            "[nltk_data]   Unzipping corpora/wordnet.zip.\n"
          ]
        },
        {
          "output_type": "execute_result",
          "data": {
            "text/plain": [
              "True"
            ]
          },
          "metadata": {},
          "execution_count": 4
        }
      ]
    },
    {
      "cell_type": "markdown",
      "source": [
        "**아래 text에 원하는 리뷰 데이터 텍스트를 가져다가 넣으면 됨**"
      ],
      "metadata": {
        "id": "df3pVMkAwVd5"
      }
    },
    {
      "cell_type": "code",
      "execution_count": 3,
      "metadata": {
        "id": "raB_6Fk1pK31"
      },
      "outputs": [],
      "source": [
        "review = \"Aromas include tropical fruit, broom, brimstone and dried herb. The palate isn't overly expressive, offering unripened apple, citrus and dried sage alongside brisk acidity.\""
      ]
    },
    {
      "cell_type": "markdown",
      "source": [
        "**전처리 단계**"
      ],
      "metadata": {
        "id": "lEyRHxG6xb3W"
      }
    },
    {
      "cell_type": "code",
      "source": [
        "import warnings\n",
        "warnings.filterwarnings('ignore')\n",
        "\n",
        "import pandas as pd\n",
        "import numpy as np\n",
        "import re\n",
        "from nltk.stem import WordNetLemmatizer\n",
        "from nltk.corpus import stopwords\n",
        "\n",
        "lemmatizer = WordNetLemmatizer()\n",
        "swlist = stopwords.words('english')\n",
        "\n",
        "def get_lemma(sentence):\n",
        "  lemmas = []\n",
        "  for word in sentence:\n",
        "    words = lemmatizer.lemmatize(word, 'v')\n",
        "    lemmas.append(words)\n",
        "\n",
        "  return lemmas\n",
        "\n",
        "def preprocessing(sentence):\n",
        "  sentence = re.sub('[^a-zA-Z]', ' ', sentence)\n",
        "  sentence = sentence.lower()\n",
        "  sentence = [word for word in sentence.split() if word not in swlist]\n",
        "  sentence = get_lemma(sentence)\n",
        "\n",
        "  return ' '.join(sentence)\n",
        "\n",
        "review_preprocessed = pd.Series(preprocessing(review))\n",
        "\n",
        "from keras.preprocessing.text import Tokenizer\n",
        "\n",
        "tokenizer = Tokenizer()\n",
        "\n",
        "import json\n",
        "\n",
        "with open('/content/drive/MyDrive/AIB/Section4/wordIndex.json') as json_file:\n",
        "  word_index = json.load(json_file)\n",
        "  tokenizer.word_index = word_index\n",
        "\n",
        "# vocab_size = len(tokenizer.word_index)\n",
        "\n",
        "review_encoded = tokenizer.texts_to_sequences(review_preprocessed)\n",
        "\n",
        "from keras.preprocessing.sequence import pad_sequences\n",
        "\n",
        "maxlen = 50\n",
        "\n",
        "review_train = pad_sequences(review_encoded, maxlen = maxlen, truncating = 'post', padding = 'post')"
      ],
      "metadata": {
        "id": "Lcp_fj_yxbnq"
      },
      "execution_count": 54,
      "outputs": []
    },
    {
      "cell_type": "markdown",
      "source": [
        "**모델을 통하여 해당 와인 리뷰 텍스트를 바탕으로 와인을 긍정적으로 평가했는지 부정적으로 평가했는지 판정**"
      ],
      "metadata": {
        "id": "XSNDc7bg9_qr"
      }
    },
    {
      "cell_type": "code",
      "source": [
        "from keras.models import load_model\n",
        "\n",
        "model = load_model('/content/drive/MyDrive/AIB/Section4/pj4model.h5')\n",
        "\n",
        "prediction = model.predict(review_train)\n",
        "\n",
        "prediction\n",
        "\n",
        "if prediction >= 0.5 :\n",
        "  print('이 와인을 긍정적으로 평가했습니다!')\n",
        "else :\n",
        "  print('이 와인을 부정적으로 평가했습니다.')"
      ],
      "metadata": {
        "colab": {
          "base_uri": "https://localhost:8080/"
        },
        "id": "CRGVvyPQy4qS",
        "outputId": "c0cbd89e-c296-453f-9fe1-631e87b15f4e"
      },
      "execution_count": 53,
      "outputs": [
        {
          "output_type": "stream",
          "name": "stdout",
          "text": [
            "이 와인을 부정적으로 평가했습니다.\n"
          ]
        }
      ]
    }
  ]
}