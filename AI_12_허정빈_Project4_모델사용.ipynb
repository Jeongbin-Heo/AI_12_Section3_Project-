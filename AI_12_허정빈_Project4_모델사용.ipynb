{
  "nbformat": 4,
  "nbformat_minor": 0,
  "metadata": {
    "colab": {
      "name": "AI_12_허정빈_Project4_모델사용.ipynb",
      "provenance": [],
      "collapsed_sections": []
    },
    "kernelspec": {
      "name": "python3",
      "display_name": "Python 3"
    },
    "language_info": {
      "name": "python"
    },
    "accelerator": "GPU"
  },
  "cells": [
    {
      "cell_type": "code",
      "source": [
        "from google.colab import drive\n",
        "drive.mount('/content/drive')"
      ],
      "metadata": {
        "colab": {
          "base_uri": "https://localhost:8080/"
        },
        "id": "MEFQo5WbwDCO",
        "outputId": "6b022e22-6c46-48e2-fe3f-2eac565d8570"
      },
      "execution_count": 7,
      "outputs": [
        {
          "output_type": "stream",
          "name": "stdout",
          "text": [
            "Drive already mounted at /content/drive; to attempt to forcibly remount, call drive.mount(\"/content/drive\", force_remount=True).\n"
          ]
        }
      ]
    },
    {
      "cell_type": "code",
      "source": [
        "import nltk\n",
        "nltk.download('stopwords')\n",
        "nltk.download('wordnet')"
      ],
      "metadata": {
        "colab": {
          "base_uri": "https://localhost:8080/"
        },
        "id": "Z4fBYrB9xiQl",
        "outputId": "fbfc0dce-ab0a-4fd9-8d78-c432e471a2a4"
      },
      "execution_count": 8,
      "outputs": [
        {
          "output_type": "stream",
          "name": "stdout",
          "text": [
            "[nltk_data] Downloading package stopwords to /root/nltk_data...\n",
            "[nltk_data]   Package stopwords is already up-to-date!\n",
            "[nltk_data] Downloading package wordnet to /root/nltk_data...\n",
            "[nltk_data]   Package wordnet is already up-to-date!\n"
          ]
        },
        {
          "output_type": "execute_result",
          "data": {
            "text/plain": [
              "True"
            ]
          },
          "metadata": {},
          "execution_count": 8
        }
      ]
    },
    {
      "cell_type": "markdown",
      "source": [
        "**아래 text에 원하는 리뷰 데이터 텍스트를 가져다가 넣으면 됨**"
      ],
      "metadata": {
        "id": "df3pVMkAwVd5"
      }
    },
    {
      "cell_type": "markdown",
      "source": [
        "Big, rich and off-dry, this is powered by intense spiciness and rounded texture. Lychees dominate the fruit profile, giving an opulent feel to the aftertaste. Drink now."
      ],
      "metadata": {
        "id": "f2LDKiKZKA_F"
      }
    },
    {
      "cell_type": "code",
      "execution_count": 17,
      "metadata": {
        "id": "raB_6Fk1pK31"
      },
      "outputs": [],
      "source": [
        "review = \"Big, rich and off-dry, this is powered by intense spiciness and rounded texture. Lychees dominate the fruit profile, giving an opulent feel to the aftertaste. Drink now.\""
      ]
    },
    {
      "cell_type": "markdown",
      "source": [
        "**전처리 단계**"
      ],
      "metadata": {
        "id": "lEyRHxG6xb3W"
      }
    },
    {
      "cell_type": "code",
      "source": [
        "import warnings\n",
        "warnings.filterwarnings('ignore')\n",
        "\n",
        "import pandas as pd\n",
        "import numpy as np\n",
        "import re\n",
        "from nltk.stem import WordNetLemmatizer\n",
        "from nltk.corpus import stopwords\n",
        "\n",
        "lemmatizer = WordNetLemmatizer()\n",
        "swlist = stopwords.words('english')\n",
        "\n",
        "def get_lemma(sentence):\n",
        "  lemmas = []\n",
        "  for word in sentence:\n",
        "    words = lemmatizer.lemmatize(word, 'v')\n",
        "    lemmas.append(words)\n",
        "\n",
        "  return lemmas\n",
        "\n",
        "def preprocessing(sentence):\n",
        "  sentence = re.sub('[^a-zA-Z]', ' ', sentence)\n",
        "  sentence = sentence.lower()\n",
        "  sentence = [word for word in sentence.split() if word not in swlist]\n",
        "  sentence = get_lemma(sentence)\n",
        "\n",
        "  return ' '.join(sentence)\n",
        "\n",
        "review_preprocessed = pd.Series(preprocessing(review))\n",
        "\n",
        "from keras.preprocessing.text import Tokenizer\n",
        "\n",
        "tokenizer = Tokenizer()\n",
        "\n",
        "import json\n",
        "\n",
        "with open('/content/drive/MyDrive/AIB/Section4/wordIndex.json') as json_file:\n",
        "  word_index = json.load(json_file)\n",
        "  tokenizer.word_index = word_index\n",
        "\n",
        "# vocab_size = len(tokenizer.word_index)\n",
        "\n",
        "review_encoded = tokenizer.texts_to_sequences(review_preprocessed)\n",
        "\n",
        "from keras.preprocessing.sequence import pad_sequences\n",
        "\n",
        "maxlen = 50\n",
        "\n",
        "review_train = pad_sequences(review_encoded, maxlen = maxlen, truncating = 'post', padding = 'post')"
      ],
      "metadata": {
        "id": "Lcp_fj_yxbnq"
      },
      "execution_count": 18,
      "outputs": []
    },
    {
      "cell_type": "markdown",
      "source": [
        "**모델을 통하여 해당 와인 리뷰 텍스트를 바탕으로 와인을 긍정적으로 평가했는지 부정적으로 평가했는지 판정**"
      ],
      "metadata": {
        "id": "XSNDc7bg9_qr"
      }
    },
    {
      "cell_type": "code",
      "source": [
        "from keras.models import load_model\n",
        "\n",
        "model = load_model('/content/drive/MyDrive/AIB/Section4/pj4model.h5')\n",
        "\n",
        "prediction = model.predict(review_train)\n",
        "\n",
        "prediction\n",
        "\n",
        "if prediction >= 0.5 :\n",
        "  print('이 와인을 긍정적으로 평가했습니다!')\n",
        "else :\n",
        "  print('이 와인을 부정적으로 평가했습니다.')"
      ],
      "metadata": {
        "colab": {
          "base_uri": "https://localhost:8080/"
        },
        "id": "CRGVvyPQy4qS",
        "outputId": "9290e5d6-e99c-45a4-8c5c-f230ac27edba"
      },
      "execution_count": 19,
      "outputs": [
        {
          "output_type": "stream",
          "name": "stdout",
          "text": [
            "이 와인을 긍정적으로 평가했습니다!\n"
          ]
        }
      ]
    }
  ]
}